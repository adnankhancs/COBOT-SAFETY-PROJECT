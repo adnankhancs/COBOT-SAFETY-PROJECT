{
 "cells": [
  {
   "cell_type": "code",
   "execution_count": 1,
   "id": "3367dfc7-1d1a-49a1-a27a-e0c297db30d3",
   "metadata": {},
   "outputs": [],
   "source": [
    "import os\n",
    "import cv2"
   ]
  },
  {
   "cell_type": "code",
   "execution_count": 3,
   "id": "f154c988-e6f5-4820-bdeb-26c7240d3c60",
   "metadata": {},
   "outputs": [],
   "source": [
    "\n",
    "\n",
    "# Open the video file\n",
    "\n",
    "# Replace with your video path\n",
    "def extraction(video_path,output_folder,extracted_count):\n",
    "    cap = cv2.VideoCapture(video_path)\n",
    "    \n",
    "    # Frame extraction parameters\n",
    "    frame_interval = 30  # Extract 1 frame every 30 frames (adjust as needed)\n",
    "    os.makedirs(output_folder, exist_ok=True)\n",
    "    \n",
    "    frame_count = 0\n",
    "     \n",
    "    \n",
    "    while True:\n",
    "        ret, frame = cap.read()\n",
    "        if not ret:\n",
    "            break\n",
    "    \n",
    "        # Save frame at the specified interval\n",
    "        if frame_count % frame_interval == 0:\n",
    "            frame_name = f\"frame_{video_path[-7]}_{extracted_count:04d}.jpg\"\n",
    "            cv2.imwrite(os.path.join(output_folder, frame_name), frame)\n",
    "            extracted_count += 1\n",
    "    \n",
    "        frame_count += 1\n",
    "    \n",
    "    cap.release()\n",
    "    print(f\"Extracted {extracted_count} frames to {output_folder}\")\n",
    "    return extracted_count"
   ]
  },
  {
   "cell_type": "code",
   "execution_count": 13,
   "id": "195dbb6d-104a-4a41-91ee-899c22390612",
   "metadata": {},
   "outputs": [
    {
     "name": "stdout",
     "output_type": "stream",
     "text": [
      "Extracted 22 frames to /mnt/c/Users/adnan/Desktop/urfikhan/imagedata_sim\n"
     ]
    }
   ],
   "source": [
    "video_path = \"/mnt/c/Users/adnan/Desktop/urfikhan/input_videos/v2_s.mp4\"\n",
    "output_folder = \"/mnt/c/Users/adnan/Desktop/urfikhan/imagedata_sim\"  # Folder to save frames\n",
    "extraction(video_path,output_folder)"
   ]
  },
  {
   "cell_type": "code",
   "execution_count": 4,
   "id": "8361eb35-4700-4678-831a-cc18233b2367",
   "metadata": {},
   "outputs": [
    {
     "name": "stdout",
     "output_type": "stream",
     "text": [
      "Extracted 0 frames to /mnt/c/Users/adnan/Desktop/urfikhan/imagedata_sim2\n",
      "Extracted 0 frames to /mnt/c/Users/adnan/Desktop/urfikhan/imagedata_sim2\n"
     ]
    },
    {
     "name": "stderr",
     "output_type": "stream",
     "text": [
      "\n",
      "(python:433): GStreamer-CRITICAL **: 08:53:42.163: gst_element_make_from_uri: assertion 'gst_uri_is_valid (uri)' failed\n",
      "[ WARN:0@68.255] global cap_gstreamer.cpp:1436 open OpenCV | GStreamer warning: Error opening bin: no source element for URI \"/mnt/c/Users/adnan/Desktop/urfikhan/input_videos/1.mp4\"\n",
      "[ WARN:0@68.255] global cap_gstreamer.cpp:1173 isPipelinePlaying OpenCV | GStreamer warning: GStreamer: pipeline have not been created\n",
      "\n",
      "(python:433): GStreamer-CRITICAL **: 08:53:42.206: gst_element_make_from_uri: assertion 'gst_uri_is_valid (uri)' failed\n",
      "[ WARN:0@68.298] global cap_gstreamer.cpp:1436 open OpenCV | GStreamer warning: Error opening bin: no source element for URI \"/mnt/c/Users/adnan/Desktop/urfikhan/input_videos/2.mp4\"\n",
      "[ WARN:0@68.298] global cap_gstreamer.cpp:1173 isPipelinePlaying OpenCV | GStreamer warning: GStreamer: pipeline have not been created\n"
     ]
    }
   ],
   "source": [
    "extracted_count=0\n",
    "\n",
    "for i in range(1,3):\n",
    "    video_path = \"/mnt/c/Users/adnan/Desktop/urfikhan/input_videos/\"+str(i)+\".mp4\"\n",
    "    output_folder = \"/mnt/c/Users/adnan/Desktop/urfikhan/imagedata_sim2\"  # Folder to save frames\n",
    "    extracted_count=extraction(video_path,output_folder,extracted_count)"
   ]
  },
  {
   "cell_type": "code",
   "execution_count": 5,
   "id": "47af1fd1-6a78-4165-87c8-b9cda2e10e16",
   "metadata": {},
   "outputs": [
    {
     "name": "stdout",
     "output_type": "stream",
     "text": [
      "Extracted 508 frames to /mnt/c/Users/adnan/Desktop/urfikhan/imagedata\n"
     ]
    }
   ],
   "source": [
    "extracted_count=74+296\n",
    "#\"C:\\Users\\adnan\\Downloads\\VID-20250319-WA0007.mp4\"\n",
    "#for i in range(1,3):\n",
    "video_path = \"/mnt/c/Users/adnan/Downloads/VID-20250319-WA0009.mp4\"\n",
    "output_folder = \"/mnt/c/Users/adnan/Desktop/urfikhan/imagedata\"  # Folder to save frames\n",
    "extracted_count=extraction(video_path,output_folder,extracted_count)"
   ]
  },
  {
   "cell_type": "code",
   "execution_count": 4,
   "id": "13337fb9-d5a5-4844-8b18-20668412e3a2",
   "metadata": {},
   "outputs": [
    {
     "name": "stdout",
     "output_type": "stream",
     "text": [
      "Extracted 33 frames to /mnt/c/Users/adnan/Desktop/urfikhan/imagedata\n"
     ]
    }
   ],
   "source": [
    "\n",
    "\n",
    "# Open the video file\n",
    "video_path = \"/mnt/c/Users/adnan/Desktop/urfikhan/video1.mp4\"  # Replace with your video path\n",
    "cap = cv2.VideoCapture(video_path)\n",
    "\n",
    "# Frame extraction parameters\n",
    "frame_interval = 30  # Extract 1 frame every 30 frames (adjust as needed)\n",
    "output_folder = \"/mnt/c/Users/adnan/Desktop/urfikhan/imagedata\"  # Folder to save frames\n",
    "os.makedirs(output_folder, exist_ok=True)\n",
    "\n",
    "frame_count = 0\n",
    "extracted_count = 0\n",
    "\n",
    "while True:\n",
    "    ret, frame = cap.read()\n",
    "    if not ret:\n",
    "        break\n",
    "\n",
    "    # Save frame at the specified interval\n",
    "    if frame_count % frame_interval == 0:\n",
    "        frame_name = f\"frame_{extracted_count:04d}.jpg\"\n",
    "        cv2.imwrite(os.path.join(output_folder, frame_name), frame)\n",
    "        extracted_count += 1\n",
    "\n",
    "    frame_count += 1\n",
    "\n",
    "cap.release()\n",
    "print(f\"Extracted {extracted_count} frames to {output_folder}\")"
   ]
  },
  {
   "cell_type": "code",
   "execution_count": 5,
   "id": "6a14d4cc-bd2d-43dc-9269-4d074e23b2ac",
   "metadata": {},
   "outputs": [
    {
     "name": "stdout",
     "output_type": "stream",
     "text": [
      "Extracted 74 frames to /mnt/c/Users/adnan/Desktop/urfikhan/imagedata\n"
     ]
    }
   ],
   "source": [
    "\n",
    "\n",
    "# Open the video file\n",
    "video_path = \"/mnt/c/Users/adnan/Desktop/urfikhan/video2.mp4\"  # Replace with your video path\n",
    "cap = cv2.VideoCapture(video_path)\n",
    "\n",
    "# Frame extraction parameters\n",
    "frame_interval = 30  # Extract 1 frame every 30 frames (adjust as needed)\n",
    "output_folder = \"/mnt/c/Users/adnan/Desktop/urfikhan/imagedata\"  # Folder to save frames\n",
    "os.makedirs(output_folder, exist_ok=True)\n",
    "\n",
    "#frame_count = 0\n",
    "#extracted_count = 0\n",
    "\n",
    "while True:\n",
    "    ret, frame = cap.read()\n",
    "    if not ret:\n",
    "        break\n",
    "\n",
    "    # Save frame at the specified interval\n",
    "    if frame_count % frame_interval == 0:\n",
    "        frame_name = f\"frame_{extracted_count:04d}.jpg\"\n",
    "        cv2.imwrite(os.path.join(output_folder, frame_name), frame)\n",
    "        extracted_count += 1\n",
    "\n",
    "    frame_count += 1\n",
    "\n",
    "cap.release()\n",
    "print(f\"Extracted {extracted_count} frames to {output_folder}\")"
   ]
  },
  {
   "cell_type": "code",
   "execution_count": null,
   "id": "036d3875-1c24-4264-94aa-cbdcaac81224",
   "metadata": {},
   "outputs": [],
   "source": []
  }
 ],
 "metadata": {
  "kernelspec": {
   "display_name": "Python 3 (ipykernel)",
   "language": "python",
   "name": "python3"
  },
  "language_info": {
   "codemirror_mode": {
    "name": "ipython",
    "version": 3
   },
   "file_extension": ".py",
   "mimetype": "text/x-python",
   "name": "python",
   "nbconvert_exporter": "python",
   "pygments_lexer": "ipython3",
   "version": "3.9.21"
  }
 },
 "nbformat": 4,
 "nbformat_minor": 5
}
